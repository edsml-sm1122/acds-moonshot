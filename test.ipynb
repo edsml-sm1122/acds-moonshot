{
 "cells": [
  {
   "cell_type": "code",
   "execution_count": null,
   "metadata": {},
   "outputs": [],
   "source": [
    "#Load the image\n",
    "    img = f'{dataset_dir}/images/train/{train_images[100]}'\n",
    "    #img = f'{dataset_dir}/images/train/amazonis_14_11.png'\n"
   ]
  }
 ],
 "metadata": {
  "kernelspec": {
   "display_name": "GEMS1B",
   "language": "python",
   "name": "python3"
  },
  "language_info": {
   "name": "python",
   "version": "3.10.8 | packaged by conda-forge | (main, Nov 22 2022, 08:31:57) [Clang 14.0.6 ]"
  },
  "orig_nbformat": 4,
  "vscode": {
   "interpreter": {
    "hash": "326c7f4dddce6b38117800263cdcaebfcb2bc26db85a545fd266e75e3cd65102"
   }
  }
 },
 "nbformat": 4,
 "nbformat_minor": 2
}
