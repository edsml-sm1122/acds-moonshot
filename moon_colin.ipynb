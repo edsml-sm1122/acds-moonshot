{
 "cells": [
  {
   "cell_type": "markdown",
   "id": "6e0d97c6",
   "metadata": {},
   "source": [
    "Preprocess the moon data"
   ]
  },
  {
   "cell_type": "code",
   "execution_count": 1,
   "id": "6cb8b6ca",
   "metadata": {
    "ExecuteTime": {
     "end_time": "2023-01-31T09:36:38.911048Z",
     "start_time": "2023-01-31T09:36:38.908079Z"
    }
   },
   "outputs": [],
   "source": [
    "from matplotlib import pyplot as plt\n",
    "from PIL import Image\n",
    "import numpy as np"
   ]
  },
  {
   "cell_type": "code",
   "execution_count": 2,
   "id": "2f46f34e",
   "metadata": {
    "ExecuteTime": {
     "end_time": "2023-01-31T09:36:39.894082Z",
     "start_time": "2023-01-31T09:36:39.891149Z"
    }
   },
   "outputs": [],
   "source": [
    "Image.MAX_IMAGE_PIXELS = 3723856950"
   ]
  },
  {
   "cell_type": "code",
   "execution_count": 3,
   "id": "59f855e1",
   "metadata": {
    "ExecuteTime": {
     "end_time": "2023-01-31T09:36:42.468904Z",
     "start_time": "2023-01-31T09:36:42.289133Z"
    }
   },
   "outputs": [
    {
     "name": "stdout",
     "output_type": "stream",
     "text": [
      " Moon_data.ipynb   gui.py   moon_colin.ipynb  'user interface.py'\r\n",
      " README.md         \u001b[0m\u001b[01;34mhello\u001b[0m/   stats.py\r\n"
     ]
    }
   ],
   "source": [
    "ls"
   ]
  },
  {
   "cell_type": "code",
   "execution_count": 4,
   "id": "7ce0da90",
   "metadata": {
    "ExecuteTime": {
     "end_time": "2023-01-31T09:36:48.710607Z",
     "start_time": "2023-01-31T09:36:48.700022Z"
    }
   },
   "outputs": [
    {
     "name": "stdout",
     "output_type": "stream",
     "text": [
      "/home/val22/moon_data/Moon_WAC_Training/images\n"
     ]
    }
   ],
   "source": [
    "cd ../moon_data/Moon_WAC_Training/images"
   ]
  },
  {
   "cell_type": "code",
   "execution_count": 5,
   "id": "99fdbd19",
   "metadata": {
    "ExecuteTime": {
     "end_time": "2023-01-31T09:36:53.136471Z",
     "start_time": "2023-01-31T09:36:53.132743Z"
    }
   },
   "outputs": [],
   "source": [
    "inames = ['Lunar_A.jpg','Lunar_B.jpg','Lunar_C.jpg','Lunar_D.jpg']"
   ]
  },
  {
   "cell_type": "code",
   "execution_count": 6,
   "id": "e6ca116f",
   "metadata": {
    "ExecuteTime": {
     "end_time": "2023-01-31T09:37:00.146422Z",
     "start_time": "2023-01-31T09:36:53.872192Z"
    }
   },
   "outputs": [],
   "source": [
    "images = []\n",
    "for i in inames:\n",
    "    image = Image.open(i)\n",
    "    data = np.asarray(image)\n",
    "    images.append(data)"
   ]
  },
  {
   "cell_type": "code",
   "execution_count": 7,
   "id": "73e023a9",
   "metadata": {
    "ExecuteTime": {
     "end_time": "2023-01-31T09:37:18.879485Z",
     "start_time": "2023-01-31T09:37:02.632582Z"
    }
   },
   "outputs": [],
   "source": [
    "# fig, axes = plt.subplots(2,2,figsize=(16,9))\n",
    "# ax = axes.flatten()\n",
    "# for i in range(4):\n",
    "#     ax[i].imshow(images[i],cmap='Greys')\n",
    "#     ax[i].set_title(f'{i}')\n",
    "#     ax[i].label_outer()\n",
    "# plt.tight_layout()"
   ]
  },
  {
   "cell_type": "code",
   "execution_count": 8,
   "id": "d52a0fda",
   "metadata": {
    "ExecuteTime": {
     "end_time": "2023-01-31T09:46:11.361935Z",
     "start_time": "2023-01-31T09:46:10.133616Z"
    }
   },
   "outputs": [],
   "source": [
    "left = np.concatenate((images[1], images[0]), axis=0)\n",
    "right = np.concatenate((images[3], images[2]), axis=0)\n",
    "large =  np.concatenate((left, right), axis=1)"
   ]
  },
  {
   "cell_type": "code",
   "execution_count": 9,
   "id": "dd7a63df",
   "metadata": {},
   "outputs": [
    {
     "data": {
      "text/plain": [
       "(27291, 54582)"
      ]
     },
     "execution_count": 9,
     "metadata": {},
     "output_type": "execute_result"
    }
   ],
   "source": [
    "large.shape"
   ]
  },
  {
   "cell_type": "code",
   "execution_count": null,
   "id": "2d91d5b4",
   "metadata": {},
   "outputs": [],
   "source": []
  },
  {
   "cell_type": "code",
   "execution_count": 10,
   "id": "2666cd97",
   "metadata": {
    "ExecuteTime": {
     "end_time": "2023-01-31T09:46:32.277428Z",
     "start_time": "2023-01-31T09:46:16.441766Z"
    }
   },
   "outputs": [],
   "source": [
    "#plt.imshow(large)"
   ]
  },
  {
   "cell_type": "code",
   "execution_count": null,
   "id": "d70a874a",
   "metadata": {},
   "outputs": [],
   "source": []
  },
  {
   "cell_type": "code",
   "execution_count": 11,
   "id": "54c7d417",
   "metadata": {
    "ExecuteTime": {
     "end_time": "2023-01-31T09:38:00.514449Z",
     "start_time": "2023-01-31T09:38:00.502940Z"
    }
   },
   "outputs": [
    {
     "name": "stdout",
     "output_type": "stream",
     "text": [
      "/home/val22/moon_data/Moon_WAC_Training\n",
      "/home/val22/moon_data/Moon_WAC_Training/labels\n"
     ]
    }
   ],
   "source": [
    "%cd ..\n",
    "%cd labels/"
   ]
  },
  {
   "cell_type": "code",
   "execution_count": 12,
   "id": "2433236e",
   "metadata": {
    "ExecuteTime": {
     "end_time": "2023-01-31T09:38:08.076266Z",
     "start_time": "2023-01-31T09:38:05.475869Z"
    }
   },
   "outputs": [],
   "source": [
    "import pandas as pd\n",
    "labels = pd.read_csv('lunar_crater_database_robbins_train.csv')"
   ]
  },
  {
   "cell_type": "code",
   "execution_count": 13,
   "id": "421b272c",
   "metadata": {
    "ExecuteTime": {
     "end_time": "2023-01-31T09:38:09.760723Z",
     "start_time": "2023-01-31T09:38:09.736920Z"
    }
   },
   "outputs": [],
   "source": [
    "moon_labels = labels.drop(columns = labels.columns[0:2])"
   ]
  },
  {
   "cell_type": "code",
   "execution_count": 14,
   "id": "ff57e5f8",
   "metadata": {
    "ExecuteTime": {
     "end_time": "2023-01-31T09:38:17.867471Z",
     "start_time": "2023-01-31T09:38:17.827886Z"
    }
   },
   "outputs": [
    {
     "data": {
      "text/html": [
       "<div>\n",
       "<style scoped>\n",
       "    .dataframe tbody tr th:only-of-type {\n",
       "        vertical-align: middle;\n",
       "    }\n",
       "\n",
       "    .dataframe tbody tr th {\n",
       "        vertical-align: top;\n",
       "    }\n",
       "\n",
       "    .dataframe thead th {\n",
       "        text-align: right;\n",
       "    }\n",
       "</style>\n",
       "<table border=\"1\" class=\"dataframe\">\n",
       "  <thead>\n",
       "    <tr style=\"text-align: right;\">\n",
       "      <th></th>\n",
       "      <th>LAT_CIRC_IMG</th>\n",
       "      <th>LON_CIRC_IMG</th>\n",
       "      <th>LAT_ELLI_IMG</th>\n",
       "      <th>LON_ELLI_IMG</th>\n",
       "      <th>DIAM_CIRC_IMG</th>\n",
       "      <th>DIAM_CIRC_SD_IMG</th>\n",
       "      <th>DIAM_ELLI_MAJOR_IMG</th>\n",
       "      <th>DIAM_ELLI_MINOR_IMG</th>\n",
       "      <th>DIAM_ELLI_ECCEN_IMG</th>\n",
       "      <th>DIAM_ELLI_ELLIP_IMG</th>\n",
       "      <th>DIAM_ELLI_ANGLE_IMG</th>\n",
       "      <th>LAT_ELLI_SD_IMG</th>\n",
       "      <th>LON_ELLI_SD_IMG</th>\n",
       "      <th>DIAM_ELLI_MAJOR_SD_IMG</th>\n",
       "      <th>DIAM_ELLI_MINOR_SD_IMG</th>\n",
       "      <th>DIAM_ELLI_ANGLE_SD_IMG</th>\n",
       "      <th>DIAM_ELLI_ECCEN_SD_IMG</th>\n",
       "      <th>DIAM_ELLI_ELLIP_SD_IMG</th>\n",
       "      <th>ARC_IMG</th>\n",
       "      <th>PTS_RIM_IMG</th>\n",
       "    </tr>\n",
       "  </thead>\n",
       "  <tbody>\n",
       "    <tr>\n",
       "      <th>0</th>\n",
       "      <td>-19.83040</td>\n",
       "      <td>-95.243</td>\n",
       "      <td>-19.89050</td>\n",
       "      <td>-95.243</td>\n",
       "      <td>940.96000</td>\n",
       "      <td>21.317900</td>\n",
       "      <td>975.87400</td>\n",
       "      <td>905.96800</td>\n",
       "      <td>0.371666</td>\n",
       "      <td>1.07716</td>\n",
       "      <td>35.9919</td>\n",
       "      <td>0.007888</td>\n",
       "      <td>0.008424</td>\n",
       "      <td>0.636750</td>\n",
       "      <td>0.560417</td>\n",
       "      <td>0.373749</td>\n",
       "      <td>0.002085</td>\n",
       "      <td>0.000968</td>\n",
       "      <td>0.568712</td>\n",
       "      <td>8088</td>\n",
       "    </tr>\n",
       "    <tr>\n",
       "      <th>1</th>\n",
       "      <td>44.77630</td>\n",
       "      <td>-31.398</td>\n",
       "      <td>44.40830</td>\n",
       "      <td>-31.398</td>\n",
       "      <td>249.84000</td>\n",
       "      <td>5.996210</td>\n",
       "      <td>289.44000</td>\n",
       "      <td>245.78600</td>\n",
       "      <td>0.528111</td>\n",
       "      <td>1.17761</td>\n",
       "      <td>127.0030</td>\n",
       "      <td>0.011178</td>\n",
       "      <td>0.015101</td>\n",
       "      <td>1.052780</td>\n",
       "      <td>0.209035</td>\n",
       "      <td>0.357296</td>\n",
       "      <td>0.005100</td>\n",
       "      <td>0.004399</td>\n",
       "      <td>0.627328</td>\n",
       "      <td>2785</td>\n",
       "    </tr>\n",
       "    <tr>\n",
       "      <th>2</th>\n",
       "      <td>1.96124</td>\n",
       "      <td>-129.378</td>\n",
       "      <td>1.95072</td>\n",
       "      <td>-129.378</td>\n",
       "      <td>558.76200</td>\n",
       "      <td>14.181900</td>\n",
       "      <td>568.52900</td>\n",
       "      <td>546.37800</td>\n",
       "      <td>0.276416</td>\n",
       "      <td>1.04054</td>\n",
       "      <td>133.6910</td>\n",
       "      <td>0.007079</td>\n",
       "      <td>0.007839</td>\n",
       "      <td>0.526945</td>\n",
       "      <td>0.532872</td>\n",
       "      <td>1.262710</td>\n",
       "      <td>0.004496</td>\n",
       "      <td>0.001400</td>\n",
       "      <td>0.595221</td>\n",
       "      <td>4341</td>\n",
       "    </tr>\n",
       "    <tr>\n",
       "      <th>3</th>\n",
       "      <td>-35.60240</td>\n",
       "      <td>-151.514</td>\n",
       "      <td>-35.62210</td>\n",
       "      <td>-151.514</td>\n",
       "      <td>505.31200</td>\n",
       "      <td>12.847200</td>\n",
       "      <td>505.31300</td>\n",
       "      <td>500.67500</td>\n",
       "      <td>0.135169</td>\n",
       "      <td>1.00926</td>\n",
       "      <td>16.1189</td>\n",
       "      <td>0.009292</td>\n",
       "      <td>0.010565</td>\n",
       "      <td>0.580106</td>\n",
       "      <td>0.827589</td>\n",
       "      <td>6.227410</td>\n",
       "      <td>0.014617</td>\n",
       "      <td>0.002031</td>\n",
       "      <td>0.557812</td>\n",
       "      <td>4433</td>\n",
       "    </tr>\n",
       "    <tr>\n",
       "      <th>4</th>\n",
       "      <td>-4.38375</td>\n",
       "      <td>-157.472</td>\n",
       "      <td>-4.38541</td>\n",
       "      <td>-157.472</td>\n",
       "      <td>429.66400</td>\n",
       "      <td>15.636000</td>\n",
       "      <td>430.22100</td>\n",
       "      <td>426.39400</td>\n",
       "      <td>0.133084</td>\n",
       "      <td>1.00898</td>\n",
       "      <td>80.0141</td>\n",
       "      <td>0.007998</td>\n",
       "      <td>0.008549</td>\n",
       "      <td>0.611350</td>\n",
       "      <td>0.618142</td>\n",
       "      <td>7.198030</td>\n",
       "      <td>0.014983</td>\n",
       "      <td>0.002048</td>\n",
       "      <td>0.741016</td>\n",
       "      <td>4076</td>\n",
       "    </tr>\n",
       "    <tr>\n",
       "      <th>...</th>\n",
       "      <td>...</td>\n",
       "      <td>...</td>\n",
       "      <td>...</td>\n",
       "      <td>...</td>\n",
       "      <td>...</td>\n",
       "      <td>...</td>\n",
       "      <td>...</td>\n",
       "      <td>...</td>\n",
       "      <td>...</td>\n",
       "      <td>...</td>\n",
       "      <td>...</td>\n",
       "      <td>...</td>\n",
       "      <td>...</td>\n",
       "      <td>...</td>\n",
       "      <td>...</td>\n",
       "      <td>...</td>\n",
       "      <td>...</td>\n",
       "      <td>...</td>\n",
       "      <td>...</td>\n",
       "      <td>...</td>\n",
       "    </tr>\n",
       "    <tr>\n",
       "      <th>321701</th>\n",
       "      <td>-37.34730</td>\n",
       "      <td>-0.007</td>\n",
       "      <td>-37.34660</td>\n",
       "      <td>-0.007</td>\n",
       "      <td>5.55799</td>\n",
       "      <td>0.055557</td>\n",
       "      <td>5.64591</td>\n",
       "      <td>5.42413</td>\n",
       "      <td>0.277527</td>\n",
       "      <td>1.04089</td>\n",
       "      <td>19.2361</td>\n",
       "      <td>0.000520</td>\n",
       "      <td>0.000799</td>\n",
       "      <td>0.028969</td>\n",
       "      <td>0.042511</td>\n",
       "      <td>8.799330</td>\n",
       "      <td>0.031154</td>\n",
       "      <td>0.009751</td>\n",
       "      <td>0.709423</td>\n",
       "      <td>32</td>\n",
       "    </tr>\n",
       "    <tr>\n",
       "      <th>321702</th>\n",
       "      <td>7.93935</td>\n",
       "      <td>-179.994</td>\n",
       "      <td>7.94180</td>\n",
       "      <td>-179.994</td>\n",
       "      <td>3.27137</td>\n",
       "      <td>0.118535</td>\n",
       "      <td>3.43506</td>\n",
       "      <td>2.57939</td>\n",
       "      <td>0.660413</td>\n",
       "      <td>1.33173</td>\n",
       "      <td>53.3226</td>\n",
       "      <td>0.001147</td>\n",
       "      <td>0.001378</td>\n",
       "      <td>0.083372</td>\n",
       "      <td>0.185022</td>\n",
       "      <td>3.648950</td>\n",
       "      <td>0.064654</td>\n",
       "      <td>0.100846</td>\n",
       "      <td>0.366815</td>\n",
       "      <td>13</td>\n",
       "    </tr>\n",
       "    <tr>\n",
       "      <th>321703</th>\n",
       "      <td>-15.31480</td>\n",
       "      <td>-179.999</td>\n",
       "      <td>-15.32440</td>\n",
       "      <td>-179.999</td>\n",
       "      <td>7.00013</td>\n",
       "      <td>0.304954</td>\n",
       "      <td>8.74857</td>\n",
       "      <td>6.25062</td>\n",
       "      <td>0.699663</td>\n",
       "      <td>1.39963</td>\n",
       "      <td>47.3378</td>\n",
       "      <td>0.000622</td>\n",
       "      <td>0.000837</td>\n",
       "      <td>0.070613</td>\n",
       "      <td>0.022072</td>\n",
       "      <td>0.582986</td>\n",
       "      <td>0.006428</td>\n",
       "      <td>0.012331</td>\n",
       "      <td>0.781903</td>\n",
       "      <td>37</td>\n",
       "    </tr>\n",
       "    <tr>\n",
       "      <th>321704</th>\n",
       "      <td>-20.65410</td>\n",
       "      <td>-179.997</td>\n",
       "      <td>-20.65350</td>\n",
       "      <td>-179.997</td>\n",
       "      <td>1.93579</td>\n",
       "      <td>0.041578</td>\n",
       "      <td>1.99637</td>\n",
       "      <td>1.67560</td>\n",
       "      <td>0.543631</td>\n",
       "      <td>1.19143</td>\n",
       "      <td>66.8170</td>\n",
       "      <td>0.000166</td>\n",
       "      <td>0.000483</td>\n",
       "      <td>0.013649</td>\n",
       "      <td>0.032488</td>\n",
       "      <td>2.623440</td>\n",
       "      <td>0.026642</td>\n",
       "      <td>0.024495</td>\n",
       "      <td>0.683029</td>\n",
       "      <td>17</td>\n",
       "    </tr>\n",
       "    <tr>\n",
       "      <th>321705</th>\n",
       "      <td>-2.18274</td>\n",
       "      <td>-179.380</td>\n",
       "      <td>-2.25471</td>\n",
       "      <td>-179.380</td>\n",
       "      <td>85.78790</td>\n",
       "      <td>2.423660</td>\n",
       "      <td>93.46610</td>\n",
       "      <td>82.75970</td>\n",
       "      <td>0.464732</td>\n",
       "      <td>1.12937</td>\n",
       "      <td>116.5750</td>\n",
       "      <td>0.012254</td>\n",
       "      <td>0.005597</td>\n",
       "      <td>0.912713</td>\n",
       "      <td>0.371849</td>\n",
       "      <td>2.036990</td>\n",
       "      <td>0.018135</td>\n",
       "      <td>0.012140</td>\n",
       "      <td>0.467386</td>\n",
       "      <td>183</td>\n",
       "    </tr>\n",
       "  </tbody>\n",
       "</table>\n",
       "<p>321706 rows × 20 columns</p>\n",
       "</div>"
      ],
      "text/plain": [
       "        LAT_CIRC_IMG  LON_CIRC_IMG  LAT_ELLI_IMG  LON_ELLI_IMG  DIAM_CIRC_IMG  \\\n",
       "0          -19.83040       -95.243     -19.89050       -95.243      940.96000   \n",
       "1           44.77630       -31.398      44.40830       -31.398      249.84000   \n",
       "2            1.96124      -129.378       1.95072      -129.378      558.76200   \n",
       "3          -35.60240      -151.514     -35.62210      -151.514      505.31200   \n",
       "4           -4.38375      -157.472      -4.38541      -157.472      429.66400   \n",
       "...              ...           ...           ...           ...            ...   \n",
       "321701     -37.34730        -0.007     -37.34660        -0.007        5.55799   \n",
       "321702       7.93935      -179.994       7.94180      -179.994        3.27137   \n",
       "321703     -15.31480      -179.999     -15.32440      -179.999        7.00013   \n",
       "321704     -20.65410      -179.997     -20.65350      -179.997        1.93579   \n",
       "321705      -2.18274      -179.380      -2.25471      -179.380       85.78790   \n",
       "\n",
       "        DIAM_CIRC_SD_IMG  DIAM_ELLI_MAJOR_IMG  DIAM_ELLI_MINOR_IMG  \\\n",
       "0              21.317900            975.87400            905.96800   \n",
       "1               5.996210            289.44000            245.78600   \n",
       "2              14.181900            568.52900            546.37800   \n",
       "3              12.847200            505.31300            500.67500   \n",
       "4              15.636000            430.22100            426.39400   \n",
       "...                  ...                  ...                  ...   \n",
       "321701          0.055557              5.64591              5.42413   \n",
       "321702          0.118535              3.43506              2.57939   \n",
       "321703          0.304954              8.74857              6.25062   \n",
       "321704          0.041578              1.99637              1.67560   \n",
       "321705          2.423660             93.46610             82.75970   \n",
       "\n",
       "        DIAM_ELLI_ECCEN_IMG  DIAM_ELLI_ELLIP_IMG  DIAM_ELLI_ANGLE_IMG  \\\n",
       "0                  0.371666              1.07716              35.9919   \n",
       "1                  0.528111              1.17761             127.0030   \n",
       "2                  0.276416              1.04054             133.6910   \n",
       "3                  0.135169              1.00926              16.1189   \n",
       "4                  0.133084              1.00898              80.0141   \n",
       "...                     ...                  ...                  ...   \n",
       "321701             0.277527              1.04089              19.2361   \n",
       "321702             0.660413              1.33173              53.3226   \n",
       "321703             0.699663              1.39963              47.3378   \n",
       "321704             0.543631              1.19143              66.8170   \n",
       "321705             0.464732              1.12937             116.5750   \n",
       "\n",
       "        LAT_ELLI_SD_IMG  LON_ELLI_SD_IMG  DIAM_ELLI_MAJOR_SD_IMG  \\\n",
       "0              0.007888         0.008424                0.636750   \n",
       "1              0.011178         0.015101                1.052780   \n",
       "2              0.007079         0.007839                0.526945   \n",
       "3              0.009292         0.010565                0.580106   \n",
       "4              0.007998         0.008549                0.611350   \n",
       "...                 ...              ...                     ...   \n",
       "321701         0.000520         0.000799                0.028969   \n",
       "321702         0.001147         0.001378                0.083372   \n",
       "321703         0.000622         0.000837                0.070613   \n",
       "321704         0.000166         0.000483                0.013649   \n",
       "321705         0.012254         0.005597                0.912713   \n",
       "\n",
       "        DIAM_ELLI_MINOR_SD_IMG  DIAM_ELLI_ANGLE_SD_IMG  \\\n",
       "0                     0.560417                0.373749   \n",
       "1                     0.209035                0.357296   \n",
       "2                     0.532872                1.262710   \n",
       "3                     0.827589                6.227410   \n",
       "4                     0.618142                7.198030   \n",
       "...                        ...                     ...   \n",
       "321701                0.042511                8.799330   \n",
       "321702                0.185022                3.648950   \n",
       "321703                0.022072                0.582986   \n",
       "321704                0.032488                2.623440   \n",
       "321705                0.371849                2.036990   \n",
       "\n",
       "        DIAM_ELLI_ECCEN_SD_IMG  DIAM_ELLI_ELLIP_SD_IMG   ARC_IMG  PTS_RIM_IMG  \n",
       "0                     0.002085                0.000968  0.568712         8088  \n",
       "1                     0.005100                0.004399  0.627328         2785  \n",
       "2                     0.004496                0.001400  0.595221         4341  \n",
       "3                     0.014617                0.002031  0.557812         4433  \n",
       "4                     0.014983                0.002048  0.741016         4076  \n",
       "...                        ...                     ...       ...          ...  \n",
       "321701                0.031154                0.009751  0.709423           32  \n",
       "321702                0.064654                0.100846  0.366815           13  \n",
       "321703                0.006428                0.012331  0.781903           37  \n",
       "321704                0.026642                0.024495  0.683029           17  \n",
       "321705                0.018135                0.012140  0.467386          183  \n",
       "\n",
       "[321706 rows x 20 columns]"
      ]
     },
     "execution_count": 14,
     "metadata": {},
     "output_type": "execute_result"
    }
   ],
   "source": [
    "moon_labels"
   ]
  },
  {
   "cell_type": "code",
   "execution_count": 15,
   "id": "2c5b1156",
   "metadata": {
    "ExecuteTime": {
     "end_time": "2023-01-31T09:38:44.365580Z",
     "start_time": "2023-01-31T09:38:44.359058Z"
    }
   },
   "outputs": [],
   "source": [
    "moon_labels_1 = moon_labels[['LAT_CIRC_IMG','LON_CIRC_IMG','DIAM_CIRC_IMG']]"
   ]
  },
  {
   "cell_type": "code",
   "execution_count": 16,
   "id": "59965326",
   "metadata": {
    "ExecuteTime": {
     "end_time": "2023-01-31T09:38:45.525742Z",
     "start_time": "2023-01-31T09:38:45.513699Z"
    }
   },
   "outputs": [
    {
     "data": {
      "text/html": [
       "<div>\n",
       "<style scoped>\n",
       "    .dataframe tbody tr th:only-of-type {\n",
       "        vertical-align: middle;\n",
       "    }\n",
       "\n",
       "    .dataframe tbody tr th {\n",
       "        vertical-align: top;\n",
       "    }\n",
       "\n",
       "    .dataframe thead th {\n",
       "        text-align: right;\n",
       "    }\n",
       "</style>\n",
       "<table border=\"1\" class=\"dataframe\">\n",
       "  <thead>\n",
       "    <tr style=\"text-align: right;\">\n",
       "      <th></th>\n",
       "      <th>LAT_CIRC_IMG</th>\n",
       "      <th>LON_CIRC_IMG</th>\n",
       "      <th>DIAM_CIRC_IMG</th>\n",
       "    </tr>\n",
       "  </thead>\n",
       "  <tbody>\n",
       "    <tr>\n",
       "      <th>0</th>\n",
       "      <td>-19.83040</td>\n",
       "      <td>-95.243</td>\n",
       "      <td>940.96000</td>\n",
       "    </tr>\n",
       "    <tr>\n",
       "      <th>1</th>\n",
       "      <td>44.77630</td>\n",
       "      <td>-31.398</td>\n",
       "      <td>249.84000</td>\n",
       "    </tr>\n",
       "    <tr>\n",
       "      <th>2</th>\n",
       "      <td>1.96124</td>\n",
       "      <td>-129.378</td>\n",
       "      <td>558.76200</td>\n",
       "    </tr>\n",
       "    <tr>\n",
       "      <th>3</th>\n",
       "      <td>-35.60240</td>\n",
       "      <td>-151.514</td>\n",
       "      <td>505.31200</td>\n",
       "    </tr>\n",
       "    <tr>\n",
       "      <th>4</th>\n",
       "      <td>-4.38375</td>\n",
       "      <td>-157.472</td>\n",
       "      <td>429.66400</td>\n",
       "    </tr>\n",
       "    <tr>\n",
       "      <th>...</th>\n",
       "      <td>...</td>\n",
       "      <td>...</td>\n",
       "      <td>...</td>\n",
       "    </tr>\n",
       "    <tr>\n",
       "      <th>321701</th>\n",
       "      <td>-37.34730</td>\n",
       "      <td>-0.007</td>\n",
       "      <td>5.55799</td>\n",
       "    </tr>\n",
       "    <tr>\n",
       "      <th>321702</th>\n",
       "      <td>7.93935</td>\n",
       "      <td>-179.994</td>\n",
       "      <td>3.27137</td>\n",
       "    </tr>\n",
       "    <tr>\n",
       "      <th>321703</th>\n",
       "      <td>-15.31480</td>\n",
       "      <td>-179.999</td>\n",
       "      <td>7.00013</td>\n",
       "    </tr>\n",
       "    <tr>\n",
       "      <th>321704</th>\n",
       "      <td>-20.65410</td>\n",
       "      <td>-179.997</td>\n",
       "      <td>1.93579</td>\n",
       "    </tr>\n",
       "    <tr>\n",
       "      <th>321705</th>\n",
       "      <td>-2.18274</td>\n",
       "      <td>-179.380</td>\n",
       "      <td>85.78790</td>\n",
       "    </tr>\n",
       "  </tbody>\n",
       "</table>\n",
       "<p>321706 rows × 3 columns</p>\n",
       "</div>"
      ],
      "text/plain": [
       "        LAT_CIRC_IMG  LON_CIRC_IMG  DIAM_CIRC_IMG\n",
       "0          -19.83040       -95.243      940.96000\n",
       "1           44.77630       -31.398      249.84000\n",
       "2            1.96124      -129.378      558.76200\n",
       "3          -35.60240      -151.514      505.31200\n",
       "4           -4.38375      -157.472      429.66400\n",
       "...              ...           ...            ...\n",
       "321701     -37.34730        -0.007        5.55799\n",
       "321702       7.93935      -179.994        3.27137\n",
       "321703     -15.31480      -179.999        7.00013\n",
       "321704     -20.65410      -179.997        1.93579\n",
       "321705      -2.18274      -179.380       85.78790\n",
       "\n",
       "[321706 rows x 3 columns]"
      ]
     },
     "execution_count": 16,
     "metadata": {},
     "output_type": "execute_result"
    }
   ],
   "source": [
    "moon_labels_1"
   ]
  },
  {
   "cell_type": "code",
   "execution_count": 17,
   "id": "25bca9f8",
   "metadata": {
    "ExecuteTime": {
     "end_time": "2023-01-31T09:55:32.667276Z",
     "start_time": "2023-01-31T09:55:32.658208Z"
    }
   },
   "outputs": [],
   "source": [
    "def lat_lon_km2pix(lat,lon,r,origin_lat,origin_lon,lat_span=45,lon_span=90,shape=large.T.shape):\n",
    "    #ask the question what is the fuchiong pixel resolution, the readme is not self agreed\n",
    "    \n",
    "    moon_r = 1737.4  # in km\n",
    "    lat_ = -(lat-origin_lat)\n",
    "    lon_ = lon-origin_lon\n",
    "    if not np.array((lat_>=0)&(lat_>=0)).all():\n",
    "        print('Input maybe wrong')\n",
    "        \n",
    "    x_pixels = shape[0]\n",
    "    y_pixels = shape[1]\n",
    "    \n",
    "    x_pixpkm = (lon_span/360)*2*np.pi*moon_r*np.abs(np.cos(np.radians(lat)))/x_pixels  #try np.cos(19) and np.cos(19.123)\n",
    "    \n",
    "    y_pixpkm = (lat_span/180)*np.pi*moon_r/y_pixels\n",
    "\n",
    "    return lon_*x_pixels/lon_span, lat_*y_pixels/lat_span, r/x_pixpkm, r/y_pixpkm"
   ]
  },
  {
   "cell_type": "code",
   "execution_count": 18,
   "id": "099b9302",
   "metadata": {
    "ExecuteTime": {
     "end_time": "2023-01-31T09:55:36.697235Z",
     "start_time": "2023-01-31T09:55:36.665611Z"
    }
   },
   "outputs": [
    {
     "name": "stderr",
     "output_type": "stream",
     "text": [
      "/tmp/ipykernel_1633/955628315.py:1: SettingWithCopyWarning: \n",
      "A value is trying to be set on a copy of a slice from a DataFrame.\n",
      "Try using .loc[row_indexer,col_indexer] = value instead\n",
      "\n",
      "See the caveats in the documentation: https://pandas.pydata.org/pandas-docs/stable/user_guide/indexing.html#returning-a-view-versus-a-copy\n",
      "  moon_labels_1['X'],moon_labels_1['Y'],moon_labels_1['W'],moon_labels_1['H'] = lat_lon_km2pix(moon_labels_1['LAT_CIRC_IMG'],moon_labels_1['LON_CIRC_IMG'],moon_labels_1['DIAM_CIRC_IMG'],origin_lat=45,origin_lon=(-180))\n",
      "/tmp/ipykernel_1633/955628315.py:1: SettingWithCopyWarning: \n",
      "A value is trying to be set on a copy of a slice from a DataFrame.\n",
      "Try using .loc[row_indexer,col_indexer] = value instead\n",
      "\n",
      "See the caveats in the documentation: https://pandas.pydata.org/pandas-docs/stable/user_guide/indexing.html#returning-a-view-versus-a-copy\n",
      "  moon_labels_1['X'],moon_labels_1['Y'],moon_labels_1['W'],moon_labels_1['H'] = lat_lon_km2pix(moon_labels_1['LAT_CIRC_IMG'],moon_labels_1['LON_CIRC_IMG'],moon_labels_1['DIAM_CIRC_IMG'],origin_lat=45,origin_lon=(-180))\n",
      "/tmp/ipykernel_1633/955628315.py:1: SettingWithCopyWarning: \n",
      "A value is trying to be set on a copy of a slice from a DataFrame.\n",
      "Try using .loc[row_indexer,col_indexer] = value instead\n",
      "\n",
      "See the caveats in the documentation: https://pandas.pydata.org/pandas-docs/stable/user_guide/indexing.html#returning-a-view-versus-a-copy\n",
      "  moon_labels_1['X'],moon_labels_1['Y'],moon_labels_1['W'],moon_labels_1['H'] = lat_lon_km2pix(moon_labels_1['LAT_CIRC_IMG'],moon_labels_1['LON_CIRC_IMG'],moon_labels_1['DIAM_CIRC_IMG'],origin_lat=45,origin_lon=(-180))\n",
      "/tmp/ipykernel_1633/955628315.py:1: SettingWithCopyWarning: \n",
      "A value is trying to be set on a copy of a slice from a DataFrame.\n",
      "Try using .loc[row_indexer,col_indexer] = value instead\n",
      "\n",
      "See the caveats in the documentation: https://pandas.pydata.org/pandas-docs/stable/user_guide/indexing.html#returning-a-view-versus-a-copy\n",
      "  moon_labels_1['X'],moon_labels_1['Y'],moon_labels_1['W'],moon_labels_1['H'] = lat_lon_km2pix(moon_labels_1['LAT_CIRC_IMG'],moon_labels_1['LON_CIRC_IMG'],moon_labels_1['DIAM_CIRC_IMG'],origin_lat=45,origin_lon=(-180))\n"
     ]
    }
   ],
   "source": [
    "moon_labels_1['X'],moon_labels_1['Y'],moon_labels_1['W'],moon_labels_1['H'] = lat_lon_km2pix(moon_labels_1['LAT_CIRC_IMG'],moon_labels_1['LON_CIRC_IMG'],moon_labels_1['DIAM_CIRC_IMG'],origin_lat=45,origin_lon=(-180))"
   ]
  },
  {
   "cell_type": "code",
   "execution_count": null,
   "id": "fc8905e9",
   "metadata": {
    "ExecuteTime": {
     "end_time": "2023-01-31T09:56:18.014822Z",
     "start_time": "2023-01-31T09:56:02.493714Z"
    }
   },
   "outputs": [],
   "source": [
    "import matplotlib.patches as patches\n",
    "\n",
    "moon_labels_1 = moon_labels_1.sort_values(by='DIAM_CIRC_IMG',ascending=False)\n",
    "plt.figure(figsize=(16,9))\n",
    "plt.imshow(large)\n",
    "for i in range(10):\n",
    "    \n",
    "    x_,y_,w,h = moon_labels_1.iloc[i].X, moon_labels_1.iloc[i].Y, moon_labels_1.iloc[i].W,moon_labels_1.iloc[i].H\n",
    "    plt.scatter(x_,y_,color='white',s=1)\n",
    "    \n",
    "    x_,y_ = x_-0.5*w, y_-0.5*h \n",
    "    rect = patches.Rectangle((x_,y_), width=w, height=h, linewidth=1, edgecolor='r', facecolor='none')\n",
    "    plt.gca().add_patch(rect)"
   ]
  },
  {
   "cell_type": "code",
   "execution_count": null,
   "id": "4f9f6bb6",
   "metadata": {},
   "outputs": [],
   "source": []
  },
  {
   "cell_type": "code",
   "execution_count": null,
   "id": "0664f6c1",
   "metadata": {},
   "outputs": [],
   "source": []
  },
  {
   "cell_type": "code",
   "execution_count": null,
   "id": "e3a35046",
   "metadata": {},
   "outputs": [],
   "source": []
  },
  {
   "cell_type": "code",
   "execution_count": null,
   "id": "889743c5",
   "metadata": {},
   "outputs": [],
   "source": []
  },
  {
   "cell_type": "code",
   "execution_count": null,
   "id": "f1e67f89",
   "metadata": {},
   "outputs": [],
   "source": []
  },
  {
   "cell_type": "code",
   "execution_count": null,
   "id": "637993a6",
   "metadata": {},
   "outputs": [],
   "source": []
  },
  {
   "cell_type": "code",
   "execution_count": null,
   "id": "e61b4920",
   "metadata": {},
   "outputs": [],
   "source": []
  },
  {
   "cell_type": "code",
   "execution_count": null,
   "id": "f9a01152",
   "metadata": {},
   "outputs": [],
   "source": []
  },
  {
   "cell_type": "code",
   "execution_count": null,
   "id": "0e33376a",
   "metadata": {},
   "outputs": [],
   "source": []
  },
  {
   "cell_type": "code",
   "execution_count": null,
   "id": "3d79af01",
   "metadata": {},
   "outputs": [],
   "source": []
  },
  {
   "cell_type": "code",
   "execution_count": null,
   "id": "a1267d52",
   "metadata": {},
   "outputs": [],
   "source": []
  },
  {
   "cell_type": "code",
   "execution_count": null,
   "id": "0cb4304c",
   "metadata": {
    "ExecuteTime": {
     "end_time": "2023-01-30T19:03:39.267169Z",
     "start_time": "2023-01-30T19:03:39.256234Z"
    }
   },
   "outputs": [],
   "source": [
    "moon_labels_A = moon_labels_1[(moon_labels_1.LAT_CIRC_IMG<0) & (moon_labels_1.LON_CIRC_IMG<-90)]\n",
    "moon_labels_B = moon_labels_1[(moon_labels_1.LAT_CIRC_IMG<0) & (moon_labels_1.LON_CIRC_IMG<-90)]\n",
    "moon_labels_C = moon_labels_1[(moon_labels_1.LAT_CIRC_IMG<0) & (moon_labels_1.LON_CIRC_IMG<-90)]\n",
    "moon_labels_D = moon_labels_1[(moon_labels_1.LAT_CIRC_IMG<0) & (moon_labels_1.LON_CIRC_IMG<-90)]"
   ]
  },
  {
   "cell_type": "code",
   "execution_count": null,
   "id": "ba57a8d6",
   "metadata": {
    "ExecuteTime": {
     "end_time": "2023-01-30T20:11:58.484051Z",
     "start_time": "2023-01-30T20:11:58.477398Z"
    }
   },
   "outputs": [],
   "source": [
    "def lat_lon_km2pix(lat,lon,r,origin_lat,origin_lon,lat_span=45,lon_span=90,shape=images[0].T.shape):\n",
    "    #ask the question what is the fuchiong pixel resolution, the readme is not self agreed\n",
    "    \n",
    "    moon_r = 1737.4  # in km\n",
    "    lat_ = -(lat-origin_lat)\n",
    "    lon_ = lon-origin_lon\n",
    "    if not np.array((lat_>=0)&(lat_>=0)).all():\n",
    "        print('Input maybe wrong')\n",
    "        \n",
    "    x_pixels = shape[0]\n",
    "    y_pixels = shape[1]\n",
    "    \n",
    "    x_pixpkm = (lon_span/360)*2*np.pi*moon_r*np.abs(np.cos(np.radians(lat)))/x_pixels  #try np.cos(19) and np.cos(19.123)\n",
    "    \n",
    "    y_pixpkm = (lat_span/180)*np.pi*moon_r/y_pixels\n",
    "\n",
    "    return lon_*x_pixels/lon_span, lat_*y_pixels/lat_span, r/x_pixpkm, r/y_pixpkm"
   ]
  },
  {
   "cell_type": "code",
   "execution_count": null,
   "id": "cd66b47a",
   "metadata": {
    "ExecuteTime": {
     "end_time": "2023-01-30T20:12:08.396899Z",
     "start_time": "2023-01-30T20:12:08.384279Z"
    }
   },
   "outputs": [],
   "source": [
    "a,b,c,d = lat_lon_km2pix(moon_labels_A['LAT_CIRC_IMG'],moon_labels_A['LON_CIRC_IMG'],moon_labels_A['DIAM_CIRC_IMG'],origin_lat=0,origin_lon=(-180))"
   ]
  },
  {
   "cell_type": "code",
   "execution_count": null,
   "id": "75715d66",
   "metadata": {
    "ExecuteTime": {
     "end_time": "2023-01-30T20:12:09.400479Z",
     "start_time": "2023-01-30T20:12:09.387245Z"
    }
   },
   "outputs": [],
   "source": [
    "moon_labels_A['X'],moon_labels_A['Y'],moon_labels_A['W'],moon_labels_A['H'] = lat_lon_km2pix(moon_labels_A['LAT_CIRC_IMG'],moon_labels_A['LON_CIRC_IMG'],moon_labels_A['DIAM_CIRC_IMG'],origin_lat=0,origin_lon=(-180))"
   ]
  },
  {
   "cell_type": "code",
   "execution_count": null,
   "id": "f965ea9f",
   "metadata": {},
   "outputs": [],
   "source": []
  },
  {
   "cell_type": "code",
   "execution_count": null,
   "id": "a258ed3a",
   "metadata": {
    "ExecuteTime": {
     "end_time": "2023-01-30T20:22:27.117945Z",
     "start_time": "2023-01-30T20:22:21.124447Z"
    },
    "scrolled": false
   },
   "outputs": [],
   "source": [
    "import matplotlib.patches as patches\n",
    "\n",
    "moon_labels_A = moon_labels_A.sort_values(by='DIAM_CIRC_IMG',ascending=False)\n",
    "plt.figure(figsize=(16,9))\n",
    "plt.imshow(images[0])\n",
    "for i in range(10):\n",
    "    \n",
    "    x_,y_,w,h = moon_labels_A.iloc[i].X, moon_labels_A.iloc[i].Y, moon_labels_A.iloc[i].W,moon_labels_A.iloc[i].H\n",
    "    plt.scatter(x_,y_,color='white',s=1)\n",
    "    \n",
    "    x_,y_ = x_-0.5*w, y_-0.5*h \n",
    "    rect = patches.Rectangle((x_,y_), width=w, height=h, linewidth=1, edgecolor='r', facecolor='none')\n",
    "    plt.gca().add_patch(rect)"
   ]
  },
  {
   "cell_type": "code",
   "execution_count": null,
   "id": "1d81e6d1",
   "metadata": {
    "ExecuteTime": {
     "end_time": "2023-01-30T20:22:35.308356Z",
     "start_time": "2023-01-30T20:22:35.300463Z"
    }
   },
   "outputs": [],
   "source": [
    "def bigimgpix2cellpix(img,X,Y,W,H,res_x=416,res_y=416): \n",
    "    shape=img.T.shape\n",
    "    x = (X-( (X//res_x) * res_x ))/res_x\n",
    "    y = (Y-( (Y//res_x) * res_y ))/res_y\n",
    "    w = W/res_x\n",
    "    h = H/res_y\n",
    "    cell_x,cell_y = shape[0]//res_x, shape[1]//res_y\n",
    "    indexes = (Y//res_y)*cell_x + X//res_x + 1\n",
    "    # Here the remainder dropped, can use fillvalue instead(augmented to a little bit larger picture). Not know which one better\n",
    "    tiles = [img[i:i+res_x,j:j+res_y] for i in range(0,cell_y * res_x,res_x) for j in range(0,cell_x * res_y,res_y)]# first rightward, then downward\n",
    "\n",
    "    return tiles,x,y,w,h,indexes"
   ]
  },
  {
   "cell_type": "code",
   "execution_count": null,
   "id": "69ae392d",
   "metadata": {},
   "outputs": [],
   "source": []
  },
  {
   "cell_type": "code",
   "execution_count": null,
   "id": "570a632a",
   "metadata": {
    "ExecuteTime": {
     "end_time": "2023-01-30T20:22:38.458515Z",
     "start_time": "2023-01-30T20:22:38.433123Z"
    }
   },
   "outputs": [],
   "source": [
    "X,Y,W,H = moon_labels_A['X'],moon_labels_A['Y'],moon_labels_A['W'],moon_labels_A['H']\n",
    "\n",
    "cells, x,y,w,h,labels = bigimgpix2cellpix(images[0],X,Y,W,H)"
   ]
  },
  {
   "cell_type": "code",
   "execution_count": null,
   "id": "39587c0e",
   "metadata": {
    "ExecuteTime": {
     "end_time": "2023-01-30T20:22:39.062477Z",
     "start_time": "2023-01-30T20:22:39.049758Z"
    }
   },
   "outputs": [],
   "source": [
    "moon_labels_A['x'],moon_labels_A['y'],moon_labels_A['w'],moon_labels_A['h'],moon_labels_A['labels'], = x,y,w,h,labels"
   ]
  },
  {
   "cell_type": "code",
   "execution_count": null,
   "id": "4de96305",
   "metadata": {
    "ExecuteTime": {
     "end_time": "2023-01-30T20:28:51.368957Z",
     "start_time": "2023-01-30T20:28:50.918545Z"
    }
   },
   "outputs": [],
   "source": [
    "n = 10\n",
    "cell = moon_labels_A[moon_labels_A.labels==n]\n",
    "plt.figure(figsize=(16,9))\n",
    "plt.imshow(cells[1-1])\n",
    "for i in range(len(cell)):\n",
    "    x_,y_,w,h = cell.iloc[i].x, cell.iloc[i].y, cell.iloc[i].w, cell.iloc[i].h\n",
    "    plt.scatter(x_*416,y_*416, color = 'white',s=1)\n",
    "    x_,y_ = (x_-0.5*w)*416, (y_-0.5*h)*416 \n",
    "    rect = patches.Rectangle((x_,y_), width=w*416, height=h*416, linewidth=1, edgecolor='r', facecolor='none')\n",
    "    plt.gca().add_patch(rect)"
   ]
  },
  {
   "cell_type": "code",
   "execution_count": null,
   "id": "725cdcc7",
   "metadata": {
    "ExecuteTime": {
     "end_time": "2023-01-30T20:30:08.827204Z",
     "start_time": "2023-01-30T20:30:08.807033Z"
    }
   },
   "outputs": [],
   "source": [
    "moon_labels_A"
   ]
  },
  {
   "cell_type": "code",
   "execution_count": null,
   "id": "68fe95a7",
   "metadata": {
    "ExecuteTime": {
     "end_time": "2023-01-31T09:34:13.853073Z",
     "start_time": "2023-01-31T09:34:13.296238Z"
    }
   },
   "outputs": [],
   "source": [
    "fig, ax = plt.subplots(3,4)\n",
    "ax=ax.flatten()\n",
    "for x,i in enumerate(range(60,70)):\n",
    "    cell = moon_labels_A[moon_labels_A.labels==i]\n",
    "    ax[x].imshow(cells[i-1])\n",
    "    ax[x].scatter(cell.x*416,cell.y*416, color = 'white',s=1)"
   ]
  },
  {
   "cell_type": "code",
   "execution_count": null,
   "id": "1d755106",
   "metadata": {
    "ExecuteTime": {
     "end_time": "2023-01-31T09:24:10.734384Z",
     "start_time": "2023-01-31T09:24:10.558452Z"
    }
   },
   "outputs": [],
   "source": [
    "# some os path operation       ls"
   ]
  },
  {
   "cell_type": "code",
   "execution_count": null,
   "id": "6c7d95b8",
   "metadata": {
    "ExecuteTime": {
     "end_time": "2023-01-31T09:32:33.854093Z",
     "start_time": "2023-01-31T09:32:04.971374Z"
    }
   },
   "outputs": [],
   "source": [
    "for i in range(len(cells)):\n",
    "    img = Image.fromarray(cells[0])\n",
    "    img.save(f'images/cell{i+1}.png')\n",
    "    target = moon_labels_A[moon_labels_A.labels==(i+1)][['x','y','w','h']].reset_index(drop=True)\n",
    "    target.to_csv(f'labels/cell{i+1}.csv', index=False)"
   ]
  }
 ],
 "metadata": {
  "hide_input": false,
  "kernelspec": {
   "display_name": "Python 3 (ipykernel)",
   "language": "python",
   "name": "python3"
  },
  "language_info": {
   "codemirror_mode": {
    "name": "ipython",
    "version": 3
   },
   "file_extension": ".py",
   "mimetype": "text/x-python",
   "name": "python",
   "nbconvert_exporter": "python",
   "pygments_lexer": "ipython3",
   "version": "3.10.6"
  },
  "toc": {
   "base_numbering": 1,
   "nav_menu": {},
   "number_sections": true,
   "sideBar": true,
   "skip_h1_title": false,
   "title_cell": "Table of Contents",
   "title_sidebar": "Contents",
   "toc_cell": false,
   "toc_position": {},
   "toc_section_display": true,
   "toc_window_display": false
  },
  "varInspector": {
   "cols": {
    "lenName": 16,
    "lenType": 16,
    "lenVar": 40
   },
   "kernels_config": {
    "python": {
     "delete_cmd_postfix": "",
     "delete_cmd_prefix": "del ",
     "library": "var_list.py",
     "varRefreshCmd": "print(var_dic_list())"
    },
    "r": {
     "delete_cmd_postfix": ") ",
     "delete_cmd_prefix": "rm(",
     "library": "var_list.r",
     "varRefreshCmd": "cat(var_dic_list()) "
    }
   },
   "types_to_exclude": [
    "module",
    "function",
    "builtin_function_or_method",
    "instance",
    "_Feature"
   ],
   "window_display": false
  }
 },
 "nbformat": 4,
 "nbformat_minor": 5
}
