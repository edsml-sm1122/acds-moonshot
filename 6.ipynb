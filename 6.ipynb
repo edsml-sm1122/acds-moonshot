{
 "cells": [
  {
   "cell_type": "code",
   "execution_count": 2,
   "metadata": {},
   "outputs": [],
   "source": [
    "import numpy as np\n",
    "import os\n",
    "from statistic import *\n",
    "import pandas as pd\n",
    "from pathlib import Path  "
   ]
  },
  {
   "cell_type": "code",
   "execution_count": 3,
   "metadata": {},
   "outputs": [],
   "source": [
    "def convert_function(W,H,x,n,x1,y1,w1,h1):\n",
    "    \"\"\"\n",
    "    Given Width(W), Height(H) of the picture, length of the sqaure x\n",
    "    and the crater position (x1,y1,w1,h1) in small tiles, return position\n",
    "    and size of crater relative to the input image.\n",
    "\n",
    "    Parameters\n",
    "    ----------\n",
    "    W : Width of input image\n",
    "    H : Height of input image\n",
    "    x : length of small tiles\n",
    "    n : number of picture\n",
    "    x1, y1, w1, h1 : crater position\n",
    "\n",
    "    Returns\n",
    "    -------\n",
    "    result : np.array \n",
    "        Position and size of crater relative to the input image.\n",
    "\n",
    "\n",
    "    Examples\n",
    "    --------\n",
    "    >>> W = 27291\n",
    "    >>> H = 54582\n",
    "    >>> x = 2048\n",
    "    >>> n = 89\n",
    "    >>> x1 = 0.053192\n",
    "    >>> y1 = 0.628065\n",
    "    >>> w1 = 0.519336\n",
    "    >>> h1 = 0.486487\n",
    "    >>> result = convert(W,H,x,n,x1,y1,w1,h1)\n",
    "    >>> result\n",
    "    array([20588.937216,  7430.27712 ,  1063.600128,   996.325376])\n",
    "    \n",
    "    \"\"\"\n",
    "    r = W // x \n",
    "    c = H // x\n",
    "    row = (n-1) // c\n",
    "    col = n - row*c -1\n",
    "    x2 = (col*x+x*x1)\n",
    "    y2 = (row*x+x*y1)\n",
    "    w2 = w1*x\n",
    "    h2 = h1*x\n",
    "    \n",
    "    return (x2,y2,w2,h2)"
   ]
  },
  {
   "cell_type": "code",
   "execution_count": 36,
   "metadata": {},
   "outputs": [
    {
     "data": {
      "text/plain": [
       "array([[ 27.        , 138.5       ,  14.        ,  13.        ],\n",
       "       [ 27.        , 554.5       ,  14.        ,  13.        ],\n",
       "       [588.        , 718.5       ,  42.        ,  41.        ],\n",
       "       [787.        , 804.        ,  34.        ,  34.        ],\n",
       "       [433.        , 704.        ,  14.        ,  14.        ],\n",
       "       [110.        ,  57.        ,  11.        ,  11.        ],\n",
       "       [336.5       ,  87.75      ,  19.        ,  18.5       ],\n",
       "       [ 89.99999996,  15.75000003,   4.50000002,   4.50000002],\n",
       "       [ 81.74999997,  13.24999998,   3.99999995,   3.99999995],\n",
       "       [ 55.00000002,  28.50000005,   5.49999996,   5.49999996]])"
      ]
     },
     "execution_count": 36,
     "metadata": {},
     "output_type": "execute_result"
    }
   ],
   "source": [
    "rootdir = \"Crop/pic1_gsu_x_gsi_1000_1024\"\n",
    "outpath = \"/Users/liyongqi/Desktop/acds-moonshot-xenophanes/Archive/test export folder\"\n",
    "\n",
    "def output_function(rootdir,outpath):\n",
    "    \"\"\"Convert the data in smaller tiles to data in the full picture\n",
    "\n",
    "    Args:\n",
    "        rootdir (string): the directory of input csv\n",
    "        outpath (string): the directory of output csv\n",
    "\n",
    "    Returns:\n",
    "        .csv file\n",
    "    \"\"\"\n",
    "    res = []\n",
    "    sml = \"init\"\n",
    "    sml_now = \"initt\"\n",
    "    for root, dirs, files in os.walk(rootdir,topdown=True):\n",
    "        files.sort()\n",
    "        dirs.sort()\n",
    "\n",
    "        for filename in files:\n",
    "            if filename.__contains__('.DS_Store') == True:\n",
    "                continue\n",
    "            if root.__contains__('detections') == False:\n",
    "                continue\n",
    "            \n",
    "            n = int(filename.split('.')[0])\n",
    "            \n",
    "            original_image_size = [0.0, 0.0]\n",
    "            original_image_size[0] = float(root.rsplit(\"/\")[1].rsplit(\"_\")[-2])\n",
    "            original_image_size[1] = float(root.rsplit(\"/\")[1].rsplit(\"_\")[-1])\n",
    "            \n",
    "            \n",
    "            splited_image_size = float(root.rsplit(\"/\")[2].rsplit(\"_\")[1])\n",
    "            \n",
    "            \n",
    "            \n",
    "            with open(os.path.join(root, filename)) as f:            \n",
    "                    for line in f:\n",
    "                        data = np.array(line.strip().split(','),dtype=float)\n",
    "                        out = convert_function(original_image_size[0],original_image_size[1],splited_image_size,n,\n",
    "                                                data[0],data[1],data[2],data[3])\n",
    "                        res.append(out)\n",
    "\n",
    "    df = pd.DataFrame(res)\n",
    "    f_name = rootdir.split(\"/\")[1]\n",
    "    f_name = '_'.join(f_name.split('_')[:-2]) + \".csv\"\n",
    "    \n",
    "    filepath = Path(outpath + \"/\" + f_name)\n",
    "    df.to_csv(filepath,index=False, header=False) \n",
    "    \n",
    "    return np.array(res)\n",
    "\n",
    "output_function(rootdir,outpath) \n",
    "             \n",
    "        \n",
    "    \n",
    "\n",
    "                    \n",
    "                    \n",
    "            "
   ]
  },
  {
   "cell_type": "code",
   "execution_count": 5,
   "metadata": {},
   "outputs": [],
   "source": [
    "W = 27291\n",
    "H = 54582\n",
    "x = 2048\n",
    "n = 89\n",
    "x1 = 0.053192\n",
    "y1 = 0.628065\n",
    "w1 = 0.519336\n",
    "h1 = 0.486487"
   ]
  },
  {
   "cell_type": "code",
   "execution_count": 6,
   "metadata": {},
   "outputs": [],
   "source": [
    "W_ = 27291\n",
    "H_ = 54582\n",
    "x_ = 256\n",
    "n_ = 9163\n",
    "x1_ = 0.527457\n",
    "y1_ = 0.033216\n",
    "w1_ = 0.395133\n",
    "h1_ = 0.390618"
   ]
  },
  {
   "cell_type": "code",
   "execution_count": 7,
   "metadata": {},
   "outputs": [
    {
     "data": {
      "text/plain": [
       "(20588.937216, 7430.27712, 1063.600128, 996.325376)"
      ]
     },
     "execution_count": 7,
     "metadata": {},
     "output_type": "execute_result"
    }
   ],
   "source": [
    "convert_function(W,H,x,n,x1,y1,w1,h1)\n"
   ]
  },
  {
   "cell_type": "code",
   "execution_count": 8,
   "metadata": {},
   "outputs": [
    {
     "data": {
      "text/plain": [
       "(903.028992, 11016.503296, 101.154048, 99.998208)"
      ]
     },
     "execution_count": 8,
     "metadata": {},
     "output_type": "execute_result"
    }
   ],
   "source": [
    "convert_function(W_,H_,x_,n_,x1_,y1_,w1_,h1_)"
   ]
  },
  {
   "cell_type": "code",
   "execution_count": 9,
   "metadata": {},
   "outputs": [],
   "source": [
    "# def convert input path (pic1 pic2)\n",
    "# output path .csv"
   ]
  },
  {
   "cell_type": "code",
   "execution_count": 10,
   "metadata": {},
   "outputs": [],
   "source": [
    "def remove_ds_store(file_list):\n",
    "    \"\"\"\n",
    "        Removes strings that contain the substring '.DS_Store'.\n",
    "\n",
    "        This function is used in the import_folder() method (see user_int.py).\n",
    "        It is also used in the check_file_names(folder_1, folder_2) function below.\n",
    "\n",
    "        Parameters\n",
    "        ----------\n",
    "        file_list : list of strings.\n",
    "\n",
    "        Returns\n",
    "        -------\n",
    "        list: file_list but without the strings which contain the substring '.DS_Store'.\n",
    "\n",
    "        \"\"\"\n",
    "    return [item for item in file_list if '.DS_Store' not in item]"
   ]
  },
  {
   "cell_type": "code",
   "execution_count": 11,
   "metadata": {},
   "outputs": [
    {
     "name": "stdout",
     "output_type": "stream",
     "text": [
      "[]\n",
      "\n",
      " []\n"
     ]
    }
   ],
   "source": [
    "rootdir = 'userinput1'\n",
    "\n",
    "filelist = []\n",
    "for root, dirs, files in os.walk(rootdir):\n",
    "    files.sort()\n",
    "\n",
    "    for filename in files:\n",
    "        filelist.append(filename)\n",
    "print(filelist)\n",
    "filelist = remove_ds_store(filelist)\n",
    "print(\"\\n\", filelist)"
   ]
  },
  {
   "cell_type": "code",
   "execution_count": 12,
   "metadata": {},
   "outputs": [],
   "source": [
    "def check_image_folder(image_folder):\n",
    "    \"\"\"\n",
    "        Checks that the 'images' subdirectory exists.\n",
    "        Checks that the images in the subdirectory are of an appropriate format (accepts only .jpg, .png, .tif).\n",
    "        If no errors are found, appends the name and path of the images to a dictionary, and returns the dictionary.\n",
    "        This function is used in the import_folder() method (see user_int.py).\n",
    "        Parameters\n",
    "        ----------\n",
    "        image_folder: path to the 'images' folder.\n",
    "        Returns\n",
    "        -------\n",
    "        - A string: if the string \"images\" is returned, no errors were found; otherwise, the string describes the error.\n",
    "        - files: dictionary which contains the name and path of the images in the image_folder.\n",
    "        (Note: the dictionary is empty if an error is found.)\n",
    "        \"\"\"\n",
    "\n",
    "    files = {'name':[], 'path':[]}\n",
    "\n",
    "    if not (os.path.exists(image_folder)):\n",
    "        return \"The input folder should contain a subdirectory called images.\", files\n",
    "\n",
    "    for file in os.listdir(image_folder):\n",
    "        if not (file.endswith(\".png\") or file.endswith(\".jpg\") or file.endswith(\".tif\") or file.endswith(\".DS_Store\")):\n",
    "            return f\"The image: '{file}' is of the wrong format.\\nPlease change the format of the image or delete the file.\", files\n",
    "        else:\n",
    "            files['name'].append(file)\n",
    "            files['path'].append(image_folder + '/' +  file)\n",
    "\n",
    "    return \"images\", files"
   ]
  },
  {
   "cell_type": "code",
   "execution_count": 13,
   "metadata": {},
   "outputs": [
    {
     "data": {
      "text/plain": [
       "(\"The image: 'images' is of the wrong format.\\nPlease change the format of the image or delete the file.\",\n",
       " {'name': ['.DS_Store'], 'path': ['Archive/data/.DS_Store']})"
      ]
     },
     "execution_count": 13,
     "metadata": {},
     "output_type": "execute_result"
    }
   ],
   "source": [
    "check_image_folder('Archive/data')"
   ]
  },
  {
   "cell_type": "code",
   "execution_count": 14,
   "metadata": {},
   "outputs": [
    {
     "data": {
      "text/plain": [
       "0"
      ]
     },
     "execution_count": 14,
     "metadata": {},
     "output_type": "execute_result"
    }
   ],
   "source": [
    "a1,b1,c1,d1 = 0.8557692307692307,0.48677884615384615,0.1201923076923077,0.12259615384615384\n",
    "a2,b2,c2,d2 = 0.9423076923076923,0.7584134615384616,0.08173076923076923,0.07932692307692307\n",
    "iouCal(a1,b1,a2,b2,c1,d1,c2,d2)"
   ]
  },
  {
   "cell_type": "code",
   "execution_count": 15,
   "metadata": {},
   "outputs": [
    {
     "data": {
      "text/plain": [
       "0.8337628845764702"
      ]
     },
     "execution_count": 15,
     "metadata": {},
     "output_type": "execute_result"
    }
   ],
   "source": [
    "a1,b1,c1,d1 = 0.7175480769230769,0.6225961538461539,0.06009615384615385,0.057692307692307696\n",
    "a2,b2,c2,d2 = 0.7236538461538461,0.624,0.078461538461538464,0.038461538461538464\n",
    "iouCal(a1,b1,a2,b2,c1,d1,c2,d2)"
   ]
  },
  {
   "cell_type": "code",
   "execution_count": 16,
   "metadata": {},
   "outputs": [
    {
     "data": {
      "text/plain": [
       "(0, 5, 3)"
      ]
     },
     "execution_count": 16,
     "metadata": {},
     "output_type": "execute_result"
    }
   ],
   "source": [
    "bbpath = 'Archive/test export folder/detections/test1.csv'\n",
    "tbpath = 'Archive/test export folder/detections/test4.csv'\n",
    "tripleStatic(bbpath, tbpath, threshold=0.5)"
   ]
  },
  {
   "cell_type": "code",
   "execution_count": 17,
   "metadata": {},
   "outputs": [],
   "source": [
    "res = np.array([])\n",
    "a = np.array([ 27.,138.5,14.,13. ])\n",
    "b = np.array([ 27.,138.5,14.,13. ])\n",
    "res = np.append(res,a,axis=0)"
   ]
  }
 ],
 "metadata": {
  "kernelspec": {
   "display_name": "env",
   "language": "python",
   "name": "python3"
  },
  "language_info": {
   "codemirror_mode": {
    "name": "ipython",
    "version": 3
   },
   "file_extension": ".py",
   "mimetype": "text/x-python",
   "name": "python",
   "nbconvert_exporter": "python",
   "pygments_lexer": "ipython3",
   "version": "3.10.9"
  },
  "orig_nbformat": 4,
  "vscode": {
   "interpreter": {
    "hash": "602d4375508c4a05c1c9aa474159164954e1f850a51223d2a5e4dafdfd58cb3c"
   }
  }
 },
 "nbformat": 4,
 "nbformat_minor": 2
}
