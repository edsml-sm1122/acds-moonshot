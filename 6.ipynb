{
 "cells": [
  {
   "cell_type": "code",
   "execution_count": 14,
   "metadata": {},
   "outputs": [],
   "source": [
    "import numpy as np\n",
    "import os\n",
    "from statistic import *"
   ]
  },
  {
   "cell_type": "code",
   "execution_count": 2,
   "metadata": {},
   "outputs": [],
   "source": [
    "def convert_function(W,H,x,n,x1,y1,w1,h1):\n",
    "    \"\"\"\n",
    "    Given Width(W), Height(H) of the picture, length of the sqaure x\n",
    "    and the crater position (x1,y1,w1,h1) in small tiles, return position\n",
    "    and size of crater relative to the input image.\n",
    "\n",
    "    Parameters\n",
    "    ----------\n",
    "    W : Width of input image\n",
    "    H : Height of input image\n",
    "    x : length of small tiles\n",
    "    n : number of picture\n",
    "    x1, y1, w1, h1 : crater position\n",
    "\n",
    "    Returns\n",
    "    -------\n",
    "    result : np.array \n",
    "        Position and size of crater relative to the input image.\n",
    "\n",
    "\n",
    "    Examples\n",
    "    --------\n",
    "    >>> W = 27291\n",
    "    >>> H = 54582\n",
    "    >>> x = 2048\n",
    "    >>> n = 89\n",
    "    >>> x1 = 0.053192\n",
    "    >>> y1 = 0.628065\n",
    "    >>> w1 = 0.519336\n",
    "    >>> h1 = 0.486487\n",
    "    >>> result = convert(W,H,x,n,x1,y1,w1,h1)\n",
    "    >>> result\n",
    "    array([20588.937216,  7430.27712 ,  1063.600128,   996.325376])\n",
    "    \n",
    "    \"\"\"\n",
    "    r = W // x \n",
    "    c = H // x\n",
    "    print(r,c)\n",
    "    row = (n-1) // c\n",
    "    col = n - row*c -1\n",
    "    print(row,col)\n",
    "    x2 = (col*x+x*x1)\n",
    "    y2 = (row*x+x*y1)\n",
    "    w2 = w1*x\n",
    "    h2 = h1*x\n",
    "    \n",
    "    return np.array([x2,y2,w2,h2])"
   ]
  },
  {
   "cell_type": "code",
   "execution_count": 4,
   "metadata": {},
   "outputs": [
    {
     "name": "stdout",
     "output_type": "stream",
     "text": [
      "[0.06490385 0.33293269 0.03365385 0.03125   ]\n",
      "[0.41346154 0.72716346 0.10096154 0.09855769]\n",
      "[0.89182692 0.93269231 0.08173077 0.08173077]\n",
      "[0.04086538 0.69230769 0.03365385 0.03365385]\n",
      "[0.52884615 0.27403846 0.05288462 0.05288462]\n",
      "[0.61778846 0.421875   0.09134615 0.08894231]\n",
      "[0.86538461 0.15144231 0.04326923 0.04326923]\n",
      "[0.78605769 0.12740385 0.03846154 0.03846154]\n",
      "[0.52884615 0.27403846 0.05288462 0.05288462]\n",
      "[0.86538461 0.15144231 0.04326923 0.04326923]\n",
      "[0.78605769 0.12740385 0.03846154 0.03846154]\n",
      "[0.52884615 0.27403846 0.05288462 0.05288462]\n"
     ]
    }
   ],
   "source": [
    "rootdir = 'userinput1'\n",
    "# iterate over files in\n",
    "# that directory\n",
    "for root, dirs, files in os.walk(rootdir):\n",
    "    files.sort()\n",
    "    for filename in files:\n",
    "        if filename.__contains__('.DS_Store') == False:\n",
    "            with open(os.path.join(root, filename)) as f:\n",
    "                for line in f:\n",
    "                    data = np.array(line.strip().split(','),dtype=float)\n",
    "                    print(data)\n",
    "            # print(os.path.join(root, filename))"
   ]
  },
  {
   "cell_type": "code",
   "execution_count": 5,
   "metadata": {},
   "outputs": [],
   "source": [
    "W = 27291\n",
    "H = 54582\n",
    "x = 2048\n",
    "n = 89\n",
    "x1 = 0.053192\n",
    "y1 = 0.628065\n",
    "w1 = 0.519336\n",
    "h1 = 0.486487"
   ]
  },
  {
   "cell_type": "code",
   "execution_count": 6,
   "metadata": {},
   "outputs": [],
   "source": [
    "W_ = 27291\n",
    "H_ = 54582\n",
    "x_ = 256\n",
    "n_ = 9163\n",
    "x1_ = 0.527457\n",
    "y1_ = 0.033216\n",
    "w1_ = 0.395133\n",
    "h1_ = 0.390618"
   ]
  },
  {
   "cell_type": "code",
   "execution_count": 7,
   "metadata": {},
   "outputs": [
    {
     "name": "stdout",
     "output_type": "stream",
     "text": [
      "13 26\n",
      "3 10\n"
     ]
    },
    {
     "data": {
      "text/plain": [
       "array([20588.937216,  7430.27712 ,  1063.600128,   996.325376])"
      ]
     },
     "execution_count": 7,
     "metadata": {},
     "output_type": "execute_result"
    }
   ],
   "source": [
    "convert_function(W,H,x,n,x1,y1,w1,h1)\n"
   ]
  },
  {
   "cell_type": "code",
   "execution_count": 8,
   "metadata": {},
   "outputs": [
    {
     "name": "stdout",
     "output_type": "stream",
     "text": [
      "106 213\n",
      "43 3\n"
     ]
    },
    {
     "data": {
      "text/plain": [
       "array([  903.028992, 11016.503296,   101.154048,    99.998208])"
      ]
     },
     "execution_count": 8,
     "metadata": {},
     "output_type": "execute_result"
    }
   ],
   "source": [
    "convert_function(W_,H_,x_,n_,x1_,y1_,w1_,h1_)"
   ]
  },
  {
   "cell_type": "code",
   "execution_count": 9,
   "metadata": {},
   "outputs": [],
   "source": [
    "# def convert input path (pic1 pic2)\n",
    "# output path .csv"
   ]
  },
  {
   "cell_type": "code",
   "execution_count": 10,
   "metadata": {},
   "outputs": [],
   "source": [
    "def remove_ds_store(file_list):\n",
    "    \"\"\"\n",
    "        Removes strings that contain the substring '.DS_Store'.\n",
    "\n",
    "        This function is used in the import_folder() method (see user_int.py).\n",
    "        It is also used in the check_file_names(folder_1, folder_2) function below.\n",
    "\n",
    "        Parameters\n",
    "        ----------\n",
    "        file_list : list of strings.\n",
    "\n",
    "        Returns\n",
    "        -------\n",
    "        list: file_list but without the strings which contain the substring '.DS_Store'.\n",
    "\n",
    "        \"\"\"\n",
    "    return [item for item in file_list if '.DS_Store' not in item]"
   ]
  },
  {
   "cell_type": "code",
   "execution_count": 11,
   "metadata": {},
   "outputs": [
    {
     "name": "stdout",
     "output_type": "stream",
     "text": [
      "['.DS_Store', '.DS_Store', '.DS_Store', 'aeolis_42_0.csv', 'aeolis_42_5.csv', '.DS_Store', 'aeolis_35_0.csv', 'aeolis_40_1.csv', '.DS_Store', 'aeolis_30_6.csv', 'aeolis_30_6.csv']\n",
      "\n",
      " ['aeolis_42_0.csv', 'aeolis_42_5.csv', 'aeolis_35_0.csv', 'aeolis_40_1.csv', 'aeolis_30_6.csv', 'aeolis_30_6.csv']\n"
     ]
    }
   ],
   "source": [
    "rootdir = 'userinput1'\n",
    "\n",
    "filelist = []\n",
    "for root, dirs, files in os.walk(rootdir):\n",
    "    files.sort()\n",
    "\n",
    "    for filename in files:\n",
    "        filelist.append(filename)\n",
    "print(filelist)\n",
    "filelist = remove_ds_store(filelist)\n",
    "print(\"\\n\", filelist)"
   ]
  },
  {
   "cell_type": "code",
   "execution_count": 12,
   "metadata": {},
   "outputs": [],
   "source": [
    "def check_image_folder(image_folder):\n",
    "    \"\"\"\n",
    "        Checks that the 'images' subdirectory exists.\n",
    "        Checks that the images in the subdirectory are of an appropriate format (accepts only .jpg, .png, .tif).\n",
    "        If no errors are found, appends the name and path of the images to a dictionary, and returns the dictionary.\n",
    "        This function is used in the import_folder() method (see user_int.py).\n",
    "        Parameters\n",
    "        ----------\n",
    "        image_folder: path to the 'images' folder.\n",
    "        Returns\n",
    "        -------\n",
    "        - A string: if the string \"images\" is returned, no errors were found; otherwise, the string describes the error.\n",
    "        - files: dictionary which contains the name and path of the images in the image_folder.\n",
    "        (Note: the dictionary is empty if an error is found.)\n",
    "        \"\"\"\n",
    "\n",
    "    files = {'name':[], 'path':[]}\n",
    "\n",
    "    if not (os.path.exists(image_folder)):\n",
    "        return \"The input folder should contain a subdirectory called images.\", files\n",
    "\n",
    "    for file in os.listdir(image_folder):\n",
    "        if not (file.endswith(\".png\") or file.endswith(\".jpg\") or file.endswith(\".tif\") or file.endswith(\".DS_Store\")):\n",
    "            return f\"The image: '{file}' is of the wrong format.\\nPlease change the format of the image or delete the file.\", files\n",
    "        else:\n",
    "            files['name'].append(file)\n",
    "            files['path'].append(image_folder + '/' +  file)\n",
    "\n",
    "    return \"images\", files"
   ]
  },
  {
   "cell_type": "code",
   "execution_count": 13,
   "metadata": {},
   "outputs": [
    {
     "data": {
      "text/plain": [
       "(\"The image: 'images' is of the wrong format.\\nPlease change the format of the image or delete the file.\",\n",
       " {'name': ['.DS_Store'], 'path': ['Archive/data/.DS_Store']})"
      ]
     },
     "execution_count": 13,
     "metadata": {},
     "output_type": "execute_result"
    }
   ],
   "source": [
    "check_image_folder('Archive/data')"
   ]
  },
  {
   "cell_type": "code",
   "execution_count": 18,
   "metadata": {},
   "outputs": [
    {
     "data": {
      "text/plain": [
       "0"
      ]
     },
     "execution_count": 18,
     "metadata": {},
     "output_type": "execute_result"
    }
   ],
   "source": [
    "a1,b1,c1,d1 = 0.8557692307692307,0.48677884615384615,0.1201923076923077,0.12259615384615384\n",
    "a2,b2,c2,d2 = 0.9423076923076923,0.7584134615384616,0.08173076923076923,0.07932692307692307\n",
    "iouCal(a1,b1,a2,b2,c1,d1,c2,d2)"
   ]
  },
  {
   "cell_type": "code",
   "execution_count": 20,
   "metadata": {},
   "outputs": [
    {
     "data": {
      "text/plain": [
       "0.8337628845764702"
      ]
     },
     "execution_count": 20,
     "metadata": {},
     "output_type": "execute_result"
    }
   ],
   "source": [
    "a1,b1,c1,d1 = 0.7175480769230769,0.6225961538461539,0.06009615384615385,0.057692307692307696\n",
    "a2,b2,c2,d2 = 0.7236538461538461,0.624,0.078461538461538464,0.038461538461538464\n",
    "iouCal(a1,b1,a2,b2,c1,d1,c2,d2)"
   ]
  }
 ],
 "metadata": {
  "kernelspec": {
   "display_name": "env",
   "language": "python",
   "name": "python3"
  },
  "language_info": {
   "codemirror_mode": {
    "name": "ipython",
    "version": 3
   },
   "file_extension": ".py",
   "mimetype": "text/x-python",
   "name": "python",
   "nbconvert_exporter": "python",
   "pygments_lexer": "ipython3",
   "version": "3.10.9"
  },
  "orig_nbformat": 4,
  "vscode": {
   "interpreter": {
    "hash": "602d4375508c4a05c1c9aa474159164954e1f850a51223d2a5e4dafdfd58cb3c"
   }
  }
 },
 "nbformat": 4,
 "nbformat_minor": 2
}
